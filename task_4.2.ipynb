{
 "cells": [
  {
   "cell_type": "code",
   "execution_count": 1,
   "metadata": {},
   "outputs": [],
   "source": [
    "import cv2\n",
    "import numpy as np"
   ]
  },
  {
   "cell_type": "code",
   "execution_count": 2,
   "metadata": {},
   "outputs": [],
   "source": [
    "ronaldo=cv2.imread(\"ronaldo.jpg\")\n",
    "messi=cv2.imread(\"messi.jpg\")\n",
    "cv2.imshow(\"Ronaldo\",ronaldo)\n",
    "cv2.imshow(\"Messi\",messi)\n",
    "cv2.waitKey()\n",
    "cv2.destroyAllWindows()"
   ]
  },
  {
   "cell_type": "code",
   "execution_count": 3,
   "metadata": {},
   "outputs": [],
   "source": [
    "rx1,rx2,ry1,ry2 = 70,230,20,160\n",
    "mx1,mx2,my1,my2 = 80,240,80,220\n",
    "ronaldo_face= ronaldo[ry1:ry2,rx1:rx2]\n",
    "messi_face= messi[my1:my2,mx1:mx2]\n",
    "cv2.imshow(\"Ronaldo\", ronaldo_face)\n",
    "# Display face\n",
    "cv2.imshow(\"Messi\", messi_face)\n",
    "cv2.waitKey()\n",
    "cv2.destroyAllWindows()"
   ]
  },
  {
   "cell_type": "code",
   "execution_count": 4,
   "metadata": {},
   "outputs": [],
   "source": [
    "messi=cv2.imread(\"messi.jpg\")\n",
    "messi[my1:my2,mx1:mx2]= ronaldo_face\n",
    "\n",
    "ronaldo=cv2.imread(\"ronaldo.jpg\")\n",
    "ronaldo[ry1:ry2,rx1:rx2]= messi_face\n",
    "cv2.imshow(\"Ronaldo\",ronaldo)\n",
    "cv2.imshow(\"Messi\",messi)\n",
    "cv2.waitKey()\n",
    "cv2.destroyAllWindows()"
   ]
  },
  {
   "cell_type": "code",
   "execution_count": null,
   "metadata": {},
   "outputs": [],
   "source": []
  },
  {
   "cell_type": "code",
   "execution_count": null,
   "metadata": {},
   "outputs": [],
   "source": []
  }
 ],
 "metadata": {
  "kernelspec": {
   "display_name": "Python 3",
   "language": "python",
   "name": "python3"
  },
  "language_info": {
   "codemirror_mode": {
    "name": "ipython",
    "version": 3
   },
   "file_extension": ".py",
   "mimetype": "text/x-python",
   "name": "python",
   "nbconvert_exporter": "python",
   "pygments_lexer": "ipython3",
   "version": "3.8.3"
  }
 },
 "nbformat": 4,
 "nbformat_minor": 4
}
