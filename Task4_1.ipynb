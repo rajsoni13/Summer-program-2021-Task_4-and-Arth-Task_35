{
 "cells": [
  {
   "cell_type": "code",
   "execution_count": 2,
   "metadata": {},
   "outputs": [],
   "source": [
    "import cv2\n",
    "import numpy as np"
   ]
  },
  {
   "cell_type": "code",
   "execution_count": 3,
   "metadata": {},
   "outputs": [],
   "source": [
    "img = np.zeros((1000,1000,3),np.uint8)\n",
    "cv2.rectangle(img,(210,200),(500,500),(0,0,255),5)\n",
    "cv2.rectangle(img,(250,250),(460,460),(0,255,0),5)\n",
    "img = cv2.circle(img,(355,370),20,(0,255,255),-1)\n",
    "img = cv2.circle(img,(355,365),20,(0,0,0),-1)\n",
    "cv2.rectangle(img,(295,295),(315,315),(125,55,0),5) #SMALL SQUARE\n",
    "cv2.rectangle(img,(395,295),(415,315),(125,55,0),5) #SMALL SQUARE\n",
    "hsv = cv2.cvtColor(img,cv2.COLOR_BGR2BGR565)\n",
    "#SMILEY\n",
    "img = cv2.circle(img,(700,350),100,(0,255,255),-1) #face\n",
    "img = cv2.circle(img,(660,310),20,(255,255,255),-1) #eye1\n",
    "img = cv2.circle(img,(660,310),10,(0,0,0),-1)\n",
    "img = cv2.circle(img,(740,310),20,(255,255,255),-1) #eye2\n",
    "img = cv2.circle(img,(740,310),10,(0,0,0),-1) \n",
    "img = cv2.circle(img,(700,400),40,(0,0,0),-1) \n",
    "img = cv2.circle(img,(700,410),40,(0,255,255),-1)"
   ]
  },
  {
   "cell_type": "code",
   "execution_count": 4,
   "metadata": {},
   "outputs": [],
   "source": [
    "cv2.imshow(\"Created by Team 9\" ,img)\n",
    "cv2.waitKey() \n",
    "cv2.destroyAllWindows()"
   ]
  },
  {
   "cell_type": "code",
   "execution_count": null,
   "metadata": {},
   "outputs": [],
   "source": []
  },
  {
   "cell_type": "code",
   "execution_count": null,
   "metadata": {},
   "outputs": [],
   "source": []
  },
  {
   "cell_type": "code",
   "execution_count": null,
   "metadata": {},
   "outputs": [],
   "source": []
  },
  {
   "cell_type": "code",
   "execution_count": null,
   "metadata": {},
   "outputs": [],
   "source": []
  },
  {
   "cell_type": "code",
   "execution_count": null,
   "metadata": {},
   "outputs": [],
   "source": []
  },
  {
   "cell_type": "code",
   "execution_count": null,
   "metadata": {},
   "outputs": [],
   "source": []
  },
  {
   "cell_type": "code",
   "execution_count": null,
   "metadata": {},
   "outputs": [],
   "source": []
  },
  {
   "cell_type": "code",
   "execution_count": null,
   "metadata": {},
   "outputs": [],
   "source": []
  },
  {
   "cell_type": "code",
   "execution_count": null,
   "metadata": {},
   "outputs": [],
   "source": []
  },
  {
   "cell_type": "code",
   "execution_count": null,
   "metadata": {},
   "outputs": [],
   "source": []
  },
  {
   "cell_type": "code",
   "execution_count": null,
   "metadata": {},
   "outputs": [],
   "source": []
  },
  {
   "cell_type": "code",
   "execution_count": null,
   "metadata": {},
   "outputs": [],
   "source": []
  },
  {
   "cell_type": "code",
   "execution_count": null,
   "metadata": {},
   "outputs": [],
   "source": []
  },
  {
   "cell_type": "code",
   "execution_count": null,
   "metadata": {},
   "outputs": [],
   "source": []
  },
  {
   "cell_type": "code",
   "execution_count": null,
   "metadata": {},
   "outputs": [],
   "source": []
  },
  {
   "cell_type": "code",
   "execution_count": null,
   "metadata": {},
   "outputs": [],
   "source": []
  }
 ],
 "metadata": {
  "kernelspec": {
   "display_name": "Python 3",
   "language": "python",
   "name": "python3"
  },
  "language_info": {
   "codemirror_mode": {
    "name": "ipython",
    "version": 3
   },
   "file_extension": ".py",
   "mimetype": "text/x-python",
   "name": "python",
   "nbconvert_exporter": "python",
   "pygments_lexer": "ipython3",
   "version": "3.8.3"
  }
 },
 "nbformat": 4,
 "nbformat_minor": 4
}
